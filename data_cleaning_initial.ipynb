{
 "cells": [
  {
   "cell_type": "code",
   "execution_count": 1,
   "metadata": {},
   "outputs": [],
   "source": [
    "import pandas as pd"
   ]
  },
  {
   "cell_type": "code",
   "execution_count": 2,
   "metadata": {},
   "outputs": [],
   "source": [
    "# Gathering the Data\n",
    "us_data = pd.read_csv(\"./data/USvideos.csv\")"
   ]
  },
  {
   "cell_type": "code",
   "execution_count": null,
   "metadata": {},
   "outputs": [],
   "source": [
    "us_data.info()"
   ]
  },
  {
   "cell_type": "code",
   "execution_count": 3,
   "metadata": {},
   "outputs": [],
   "source": [
    "# Grouping the Views for the titles since they were seperated by dates in each row\n",
    "# and we want the total views for each title\n",
    "us_aff = us_data.groupby(\"title\")[\"views\"].sum()"
   ]
  },
  {
   "cell_type": "code",
   "execution_count": 4,
   "metadata": {},
   "outputs": [],
   "source": [
    "# Sorting the data in descending order\n",
    "# and converting it to a DataFrame\n",
    "sorted_us_agg = us_aff.sort_values(ascending=False)"
   ]
  },
  {
   "cell_type": "code",
   "execution_count": 5,
   "metadata": {},
   "outputs": [],
   "source": [
    "# Merging the sorted data with the original data to get a clear dataframe\n",
    "# with the title and the views and sorting it by views\n",
    "# The merged data will contain the original data with the views column\n",
    "merged_us_agg = us_data.merge(sorted_us_agg, on=\"title\", how=\"left\").sort_values([\"views_y\"], ascending=False)"
   ]
  },
  {
   "cell_type": "code",
   "execution_count": null,
   "metadata": {},
   "outputs": [],
   "source": [
    "# View the data to see the top 10 titles with the most views\n",
    "merged_us_agg.loc[:, [\"title\", \"category_id\", \"views_x\", \"views_y\"]].head(10)"
   ]
  },
  {
   "cell_type": "code",
   "execution_count": 7,
   "metadata": {},
   "outputs": [],
   "source": [
    "# Copying the merged data to drop the duplciate columns\n",
    "copy_merged = merged_us_agg.copy()"
   ]
  },
  {
   "cell_type": "code",
   "execution_count": 8,
   "metadata": {},
   "outputs": [],
   "source": [
    "# Drop the duplicate rows\n",
    "copy_merged.drop_duplicates(subset=[\"title\"], inplace=True)"
   ]
  },
  {
   "cell_type": "code",
   "execution_count": null,
   "metadata": {},
   "outputs": [],
   "source": [
    "# Sorting the data by views and getting the top 10 titles.\n",
    "copy_merged.sort_values([\"views_y\"], ascending=False).head(10)"
   ]
  },
  {
   "cell_type": "code",
   "execution_count": 10,
   "metadata": {},
   "outputs": [],
   "source": [
    "# Filtering the data to get onyl required columns\n",
    "top_10_us_videos = copy_merged.loc[:, [\"title\", \"category_id\", \"views_x\", \"views_y\"]].head(10)"
   ]
  },
  {
   "cell_type": "code",
   "execution_count": 11,
   "metadata": {},
   "outputs": [],
   "source": [
    "# Adding tge region column to the data\n",
    "top_10_us_videos[\"region\"] = \"US\""
   ]
  },
  {
   "cell_type": "code",
   "execution_count": 6,
   "metadata": {},
   "outputs": [],
   "source": [
    "# Getting the US category data\n",
    "us_category_data_raw = pd.read_json(\"./data/US_category_id.json\")"
   ]
  },
  {
   "cell_type": "code",
   "execution_count": null,
   "metadata": {},
   "outputs": [],
   "source": [
    "us_category_data_raw.info()"
   ]
  },
  {
   "cell_type": "code",
   "execution_count": 13,
   "metadata": {},
   "outputs": [],
   "source": [
    "# Converting the JSON data to a DataFrame\n",
    "us_category_data = us_category_data_raw[\"items\"].apply(pd.Series)"
   ]
  },
  {
   "cell_type": "code",
   "execution_count": 14,
   "metadata": {},
   "outputs": [],
   "source": [
    "# Function to grab the category name from the JSON data\n",
    "def get_category_name(item):\n",
    "    return item[\"snippet\"][\"title\"]\n",
    "    "
   ]
  },
  {
   "cell_type": "code",
   "execution_count": 15,
   "metadata": {},
   "outputs": [],
   "source": [
    "# Applied the function to get the category name\n",
    "# and added it to the DataFrame\n",
    "us_category_data[\"category_name\"] = us_category_data.apply(get_category_name, axis=1)"
   ]
  },
  {
   "cell_type": "code",
   "execution_count": 16,
   "metadata": {},
   "outputs": [],
   "source": [
    "# Converting the id field to numeric so the data can be merged\n",
    "us_category_data[\"id\"] = pd.to_numeric(us_category_data[\"id\"])"
   ]
  },
  {
   "cell_type": "code",
   "execution_count": 17,
   "metadata": {},
   "outputs": [],
   "source": [
    "# Merged the top 10 videos with the category data\n",
    "# to get the category name for each video\n",
    "us_final_data = pd.merge(\n",
    "    top_10_us_videos,\n",
    "    us_category_data,\n",
    "    left_on=\"category_id\",\n",
    "    right_on=\"id\",\n",
    "    how=\"left\",\n",
    ")"
   ]
  },
  {
   "cell_type": "code",
   "execution_count": null,
   "metadata": {},
   "outputs": [],
   "source": [
    "# This is the final data with the top 10 videos and their category names for USA\n",
    "us_final_data"
   ]
  },
  {
   "cell_type": "code",
   "execution_count": 2,
   "metadata": {},
   "outputs": [],
   "source": [
    "clean_data = pd.read_csv(\"./data/cleaned_data.csv\")"
   ]
  },
  {
   "cell_type": "code",
   "execution_count": null,
   "metadata": {},
   "outputs": [],
   "source": [
    "clean_data.info()"
   ]
  },
  {
   "cell_type": "code",
   "execution_count": null,
   "metadata": {},
   "outputs": [],
   "source": [
    "clean_data.info()"
   ]
  },
  {
   "cell_type": "code",
   "execution_count": null,
   "metadata": {},
   "outputs": [],
   "source": []
  }
 ],
 "metadata": {
  "kernelspec": {
   "display_name": "myenv",
   "language": "python",
   "name": "python3"
  },
  "language_info": {
   "codemirror_mode": {
    "name": "ipython",
    "version": 3
   },
   "file_extension": ".py",
   "mimetype": "text/x-python",
   "name": "python",
   "nbconvert_exporter": "python",
   "pygments_lexer": "ipython3",
   "version": "3.12.9"
  }
 },
 "nbformat": 4,
 "nbformat_minor": 2
}
